{
 "metadata": {
  "language_info": {
   "codemirror_mode": {
    "name": "ipython",
    "version": 3
   },
   "file_extension": ".py",
   "mimetype": "text/x-python",
   "name": "python",
   "nbconvert_exporter": "python",
   "pygments_lexer": "ipython3",
   "version": "3.8.3"
  },
  "orig_nbformat": 2,
  "kernelspec": {
   "name": "python3",
   "display_name": "Python 3",
   "language": "python"
  }
 },
 "nbformat": 4,
 "nbformat_minor": 2,
 "cells": [
  {
   "cell_type": "code",
   "execution_count": 72,
   "metadata": {},
   "outputs": [
    {
     "output_type": "execute_result",
     "data": {
      "text/plain": [
       "            math_score  english_score  chinese_score\n",
       "student_id                                          \n",
       "1                   50             80             70\n",
       "2                   60             45             50\n",
       "3                   98             43             55\n",
       "4                   70             69             89\n",
       "5                   56             79             60\n",
       "6                   60             68             55\n",
       "7                   45             70             77\n",
       "8                   55             77             76\n",
       "9                   25             57             60\n",
       "10                  88             40             43"
      ],
      "text/html": "<div>\n<style scoped>\n    .dataframe tbody tr th:only-of-type {\n        vertical-align: middle;\n    }\n\n    .dataframe tbody tr th {\n        vertical-align: top;\n    }\n\n    .dataframe thead th {\n        text-align: right;\n    }\n</style>\n<table border=\"1\" class=\"dataframe\">\n  <thead>\n    <tr style=\"text-align: right;\">\n      <th></th>\n      <th>math_score</th>\n      <th>english_score</th>\n      <th>chinese_score</th>\n    </tr>\n    <tr>\n      <th>student_id</th>\n      <th></th>\n      <th></th>\n      <th></th>\n    </tr>\n  </thead>\n  <tbody>\n    <tr>\n      <th>1</th>\n      <td>50</td>\n      <td>80</td>\n      <td>70</td>\n    </tr>\n    <tr>\n      <th>2</th>\n      <td>60</td>\n      <td>45</td>\n      <td>50</td>\n    </tr>\n    <tr>\n      <th>3</th>\n      <td>98</td>\n      <td>43</td>\n      <td>55</td>\n    </tr>\n    <tr>\n      <th>4</th>\n      <td>70</td>\n      <td>69</td>\n      <td>89</td>\n    </tr>\n    <tr>\n      <th>5</th>\n      <td>56</td>\n      <td>79</td>\n      <td>60</td>\n    </tr>\n    <tr>\n      <th>6</th>\n      <td>60</td>\n      <td>68</td>\n      <td>55</td>\n    </tr>\n    <tr>\n      <th>7</th>\n      <td>45</td>\n      <td>70</td>\n      <td>77</td>\n    </tr>\n    <tr>\n      <th>8</th>\n      <td>55</td>\n      <td>77</td>\n      <td>76</td>\n    </tr>\n    <tr>\n      <th>9</th>\n      <td>25</td>\n      <td>57</td>\n      <td>60</td>\n    </tr>\n    <tr>\n      <th>10</th>\n      <td>88</td>\n      <td>40</td>\n      <td>43</td>\n    </tr>\n  </tbody>\n</table>\n</div>"
     },
     "metadata": {},
     "execution_count": 72
    }
   ],
   "source": [
    "import pandas as pd\n",
    "score_df = pd.DataFrame([[1,50,80,70], \n",
    "              [2,60,45,50],\n",
    "              [3,98,43,55],\n",
    "              [4,70,69,89],\n",
    "              [5,56,79,60],\n",
    "              [6,60,68,55],\n",
    "              [7,45,70,77],\n",
    "              [8,55,77,76],\n",
    "              [9,25,57,60],\n",
    "              [10,88,40,43]],columns=['student_id','math_score','english_score','chinese_score'])\n",
    "score_df = score_df.set_index('student_id')\n",
    "score_df"
   ]
  },
  {
   "cell_type": "code",
   "execution_count": 73,
   "metadata": {},
   "outputs": [
    {
     "output_type": "execute_result",
     "data": {
      "text/plain": [
       "student_id\n",
       "6    61.0\n",
       "dtype: float64"
      ]
     },
     "metadata": {},
     "execution_count": 73
    }
   ],
   "source": [
    "#6 號學生(student_id=6) 3 科平均分數為何？\n",
    "score_df[score_df.index==6].mean(axis=1)\n",
    "\n"
   ]
  },
  {
   "cell_type": "code",
   "execution_count": 75,
   "metadata": {},
   "outputs": [
    {
     "output_type": "execute_result",
     "data": {
      "text/plain": [
       "            math_score  english_score  chinese_score  score_df_mean\n",
       "student_id                                                         \n",
       "1                   50             80             70      66.666667\n",
       "2                   60             45             50      51.666667\n",
       "3                   98             43             55      65.333333\n",
       "4                   70             69             89      76.000000\n",
       "5                   56             79             60      65.000000\n",
       "6                   60             68             55      61.000000\n",
       "7                   45             70             77      64.000000\n",
       "8                   55             77             76      69.333333\n",
       "9                   25             57             60      47.333333\n",
       "10                  88             40             43      57.000000"
      ],
      "text/html": "<div>\n<style scoped>\n    .dataframe tbody tr th:only-of-type {\n        vertical-align: middle;\n    }\n\n    .dataframe tbody tr th {\n        vertical-align: top;\n    }\n\n    .dataframe thead th {\n        text-align: right;\n    }\n</style>\n<table border=\"1\" class=\"dataframe\">\n  <thead>\n    <tr style=\"text-align: right;\">\n      <th></th>\n      <th>math_score</th>\n      <th>english_score</th>\n      <th>chinese_score</th>\n      <th>score_df_mean</th>\n    </tr>\n    <tr>\n      <th>student_id</th>\n      <th></th>\n      <th></th>\n      <th></th>\n      <th></th>\n    </tr>\n  </thead>\n  <tbody>\n    <tr>\n      <th>1</th>\n      <td>50</td>\n      <td>80</td>\n      <td>70</td>\n      <td>66.666667</td>\n    </tr>\n    <tr>\n      <th>2</th>\n      <td>60</td>\n      <td>45</td>\n      <td>50</td>\n      <td>51.666667</td>\n    </tr>\n    <tr>\n      <th>3</th>\n      <td>98</td>\n      <td>43</td>\n      <td>55</td>\n      <td>65.333333</td>\n    </tr>\n    <tr>\n      <th>4</th>\n      <td>70</td>\n      <td>69</td>\n      <td>89</td>\n      <td>76.000000</td>\n    </tr>\n    <tr>\n      <th>5</th>\n      <td>56</td>\n      <td>79</td>\n      <td>60</td>\n      <td>65.000000</td>\n    </tr>\n    <tr>\n      <th>6</th>\n      <td>60</td>\n      <td>68</td>\n      <td>55</td>\n      <td>61.000000</td>\n    </tr>\n    <tr>\n      <th>7</th>\n      <td>45</td>\n      <td>70</td>\n      <td>77</td>\n      <td>64.000000</td>\n    </tr>\n    <tr>\n      <th>8</th>\n      <td>55</td>\n      <td>77</td>\n      <td>76</td>\n      <td>69.333333</td>\n    </tr>\n    <tr>\n      <th>9</th>\n      <td>25</td>\n      <td>57</td>\n      <td>60</td>\n      <td>47.333333</td>\n    </tr>\n    <tr>\n      <th>10</th>\n      <td>88</td>\n      <td>40</td>\n      <td>43</td>\n      <td>57.000000</td>\n    </tr>\n  </tbody>\n</table>\n</div>"
     },
     "metadata": {},
     "execution_count": 75
    }
   ],
   "source": [
    "#6 號學生 3 科平均分數是否有贏過班上一半的同學？\n",
    "score_df[\"score_df_mean\"]=score_df.mean(axis=1) \n",
    "score_df[score_df[\"score_df_mean\"]>61][\"score_df_mean\"].count()\n",
    "score_df\n",
    "#超過一半\n",
    "\n"
   ]
  },
  {
   "cell_type": "code",
   "execution_count": 77,
   "metadata": {},
   "outputs": [
    {
     "output_type": "execute_result",
     "data": {
      "text/plain": [
       "            math_score  english_score  chinese_score  score_df_mean\n",
       "student_id                                                         \n",
       "1            70.710678      89.442719      83.666003      81.367264\n",
       "2            77.459667      67.082039      70.710678      71.782978\n",
       "3            98.994949      65.574385      74.161985      79.890089\n",
       "4            83.666003      83.066239      94.339811      87.062508\n",
       "5            74.833148      88.881944      77.459667      80.449334\n",
       "6            77.459667      82.462113      74.161985      78.046565\n",
       "7            67.082039      83.666003      87.749644      79.624421\n",
       "8            74.161985      87.749644      87.177979      83.089062\n",
       "9            50.000000      75.498344      77.459667      67.939309\n",
       "10           93.808315      63.245553      65.574385      74.531649"
      ],
      "text/html": "<div>\n<style scoped>\n    .dataframe tbody tr th:only-of-type {\n        vertical-align: middle;\n    }\n\n    .dataframe tbody tr th {\n        vertical-align: top;\n    }\n\n    .dataframe thead th {\n        text-align: right;\n    }\n</style>\n<table border=\"1\" class=\"dataframe\">\n  <thead>\n    <tr style=\"text-align: right;\">\n      <th></th>\n      <th>math_score</th>\n      <th>english_score</th>\n      <th>chinese_score</th>\n      <th>score_df_mean</th>\n    </tr>\n    <tr>\n      <th>student_id</th>\n      <th></th>\n      <th></th>\n      <th></th>\n      <th></th>\n    </tr>\n  </thead>\n  <tbody>\n    <tr>\n      <th>1</th>\n      <td>70.710678</td>\n      <td>89.442719</td>\n      <td>83.666003</td>\n      <td>81.367264</td>\n    </tr>\n    <tr>\n      <th>2</th>\n      <td>77.459667</td>\n      <td>67.082039</td>\n      <td>70.710678</td>\n      <td>71.782978</td>\n    </tr>\n    <tr>\n      <th>3</th>\n      <td>98.994949</td>\n      <td>65.574385</td>\n      <td>74.161985</td>\n      <td>79.890089</td>\n    </tr>\n    <tr>\n      <th>4</th>\n      <td>83.666003</td>\n      <td>83.066239</td>\n      <td>94.339811</td>\n      <td>87.062508</td>\n    </tr>\n    <tr>\n      <th>5</th>\n      <td>74.833148</td>\n      <td>88.881944</td>\n      <td>77.459667</td>\n      <td>80.449334</td>\n    </tr>\n    <tr>\n      <th>6</th>\n      <td>77.459667</td>\n      <td>82.462113</td>\n      <td>74.161985</td>\n      <td>78.046565</td>\n    </tr>\n    <tr>\n      <th>7</th>\n      <td>67.082039</td>\n      <td>83.666003</td>\n      <td>87.749644</td>\n      <td>79.624421</td>\n    </tr>\n    <tr>\n      <th>8</th>\n      <td>74.161985</td>\n      <td>87.749644</td>\n      <td>87.177979</td>\n      <td>83.089062</td>\n    </tr>\n    <tr>\n      <th>9</th>\n      <td>50.000000</td>\n      <td>75.498344</td>\n      <td>77.459667</td>\n      <td>67.939309</td>\n    </tr>\n    <tr>\n      <th>10</th>\n      <td>93.808315</td>\n      <td>63.245553</td>\n      <td>65.574385</td>\n      <td>74.531649</td>\n    </tr>\n  </tbody>\n</table>\n</div>"
     },
     "metadata": {},
     "execution_count": 77
    }
   ],
   "source": [
    "#由於班上同學成績不好，所以學校統一加分，加分方式為開根號乘以十，請問 6 號同學 3 科成績分別是？\n",
    "\n",
    "score_df2=score_df.apply(lambda x:(x**0.5)*10)\n",
    "score_df2['score_df_mean']=score_df2.mean(axis=1)\n",
    "score_df2\n"
   ]
  },
  {
   "cell_type": "code",
   "execution_count": 85,
   "metadata": {},
   "outputs": [
    {
     "output_type": "execute_result",
     "data": {
      "text/plain": [
       "math_score       76.817645\n",
       "english_score    78.666898\n",
       "chinese_score    79.246180\n",
       "dtype: float64"
      ]
     },
     "metadata": {},
     "execution_count": 85
    }
   ],
   "source": [
    "#承上題，加分後各科班平均變多少？\n",
    "score_df2.mean(axis=0)\n",
    "\n",
    " "
   ]
  },
  {
   "cell_type": "code",
   "execution_count": null,
   "metadata": {},
   "outputs": [],
   "source": []
  }
 ]
}
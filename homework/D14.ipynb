{
 "metadata": {
  "language_info": {
   "codemirror_mode": {
    "name": "ipython",
    "version": 3
   },
   "file_extension": ".py",
   "mimetype": "text/x-python",
   "name": "python",
   "nbconvert_exporter": "python",
   "pygments_lexer": "ipython3",
   "version": "3.8.5"
  },
  "orig_nbformat": 2,
  "kernelspec": {
   "name": "python3",
   "display_name": "Python 3",
   "language": "python"
  }
 },
 "nbformat": 4,
 "nbformat_minor": 2,
 "cells": [
  {
   "cell_type": "code",
   "execution_count": 15,
   "metadata": {},
   "outputs": [
    {
     "output_type": "execute_result",
     "data": {
      "text/plain": [
       "    student_id  math_score  english_score  chinese_score   sex  class\n",
       "0            1          50             80             70   boy      1\n",
       "1            2          60             45             50   boy      2\n",
       "2            3          98             43             55   boy      1\n",
       "3            4          70             69             89   boy      2\n",
       "4            5          56             79             60  girl      1\n",
       "5            6          60             68             55  girl      2\n",
       "6            7          45             70             77  girl      1\n",
       "7            8          55             77             76  girl      2\n",
       "8            9          25             57             60  girl      1\n",
       "9           10          88             40             43  girl      3\n",
       "10          11          25             60             45   boy      3\n",
       "11          12          80             60             23   boy      3\n",
       "12          13          20             90             66  girl      3\n",
       "13          14          50             50             50  girl      3\n",
       "14          15          89             67             77  girl      3"
      ],
      "text/html": "<div>\n<style scoped>\n    .dataframe tbody tr th:only-of-type {\n        vertical-align: middle;\n    }\n\n    .dataframe tbody tr th {\n        vertical-align: top;\n    }\n\n    .dataframe thead th {\n        text-align: right;\n    }\n</style>\n<table border=\"1\" class=\"dataframe\">\n  <thead>\n    <tr style=\"text-align: right;\">\n      <th></th>\n      <th>student_id</th>\n      <th>math_score</th>\n      <th>english_score</th>\n      <th>chinese_score</th>\n      <th>sex</th>\n      <th>class</th>\n    </tr>\n  </thead>\n  <tbody>\n    <tr>\n      <th>0</th>\n      <td>1</td>\n      <td>50</td>\n      <td>80</td>\n      <td>70</td>\n      <td>boy</td>\n      <td>1</td>\n    </tr>\n    <tr>\n      <th>1</th>\n      <td>2</td>\n      <td>60</td>\n      <td>45</td>\n      <td>50</td>\n      <td>boy</td>\n      <td>2</td>\n    </tr>\n    <tr>\n      <th>2</th>\n      <td>3</td>\n      <td>98</td>\n      <td>43</td>\n      <td>55</td>\n      <td>boy</td>\n      <td>1</td>\n    </tr>\n    <tr>\n      <th>3</th>\n      <td>4</td>\n      <td>70</td>\n      <td>69</td>\n      <td>89</td>\n      <td>boy</td>\n      <td>2</td>\n    </tr>\n    <tr>\n      <th>4</th>\n      <td>5</td>\n      <td>56</td>\n      <td>79</td>\n      <td>60</td>\n      <td>girl</td>\n      <td>1</td>\n    </tr>\n    <tr>\n      <th>5</th>\n      <td>6</td>\n      <td>60</td>\n      <td>68</td>\n      <td>55</td>\n      <td>girl</td>\n      <td>2</td>\n    </tr>\n    <tr>\n      <th>6</th>\n      <td>7</td>\n      <td>45</td>\n      <td>70</td>\n      <td>77</td>\n      <td>girl</td>\n      <td>1</td>\n    </tr>\n    <tr>\n      <th>7</th>\n      <td>8</td>\n      <td>55</td>\n      <td>77</td>\n      <td>76</td>\n      <td>girl</td>\n      <td>2</td>\n    </tr>\n    <tr>\n      <th>8</th>\n      <td>9</td>\n      <td>25</td>\n      <td>57</td>\n      <td>60</td>\n      <td>girl</td>\n      <td>1</td>\n    </tr>\n    <tr>\n      <th>9</th>\n      <td>10</td>\n      <td>88</td>\n      <td>40</td>\n      <td>43</td>\n      <td>girl</td>\n      <td>3</td>\n    </tr>\n    <tr>\n      <th>10</th>\n      <td>11</td>\n      <td>25</td>\n      <td>60</td>\n      <td>45</td>\n      <td>boy</td>\n      <td>3</td>\n    </tr>\n    <tr>\n      <th>11</th>\n      <td>12</td>\n      <td>80</td>\n      <td>60</td>\n      <td>23</td>\n      <td>boy</td>\n      <td>3</td>\n    </tr>\n    <tr>\n      <th>12</th>\n      <td>13</td>\n      <td>20</td>\n      <td>90</td>\n      <td>66</td>\n      <td>girl</td>\n      <td>3</td>\n    </tr>\n    <tr>\n      <th>13</th>\n      <td>14</td>\n      <td>50</td>\n      <td>50</td>\n      <td>50</td>\n      <td>girl</td>\n      <td>3</td>\n    </tr>\n    <tr>\n      <th>14</th>\n      <td>15</td>\n      <td>89</td>\n      <td>67</td>\n      <td>77</td>\n      <td>girl</td>\n      <td>3</td>\n    </tr>\n  </tbody>\n</table>\n</div>"
     },
     "metadata": {},
     "execution_count": 15
    }
   ],
   "source": [
    "import pandas as pd\n",
    "import numpy as np\n",
    "score_df = pd.DataFrame([[1,50,80,70,'boy',1],[2,60,45,50,'boy',2],[3,98,43,55,'boy',1],[4,70,69,89,'boy',2],[5,56,79,60,'girl',1],[6,60,68,55,'girl',2],[7,45,70,77,'girl',1],[8,55,77,76,'girl',2],[9,25,57,60,'girl',1],[10,88,40,43,'girl',3],[11,25,60,45,'boy',3],[12,80,60,23,'boy',3],[13,20,90,66,'girl',3],[14,50,50,50,'girl',3],[15,89,67,77,'girl',3]],columns=['student_id','math_score','english_score','chinese_score','sex','class'])\n",
    "score_df\n"
   ]
  },
  {
   "cell_type": "code",
   "execution_count": 16,
   "metadata": {},
   "outputs": [],
   "source": [
    "score_df.set_index([\"sex\",\"class\",\"student_id\"] , inplace=True)\n"
   ]
  },
  {
   "cell_type": "code",
   "execution_count": 17,
   "metadata": {},
   "outputs": [
    {
     "output_type": "execute_result",
     "data": {
      "text/plain": [
       "                       math_score  english_score  chinese_score\n",
       "sex  class student_id                                          \n",
       "boy  1     1                   50             80             70\n",
       "     2     2                   60             45             50\n",
       "     1     3                   98             43             55\n",
       "     2     4                   70             69             89\n",
       "girl 1     5                   56             79             60\n",
       "     2     6                   60             68             55\n",
       "     1     7                   45             70             77\n",
       "     2     8                   55             77             76\n",
       "     1     9                   25             57             60\n",
       "     3     10                  88             40             43\n",
       "boy  3     11                  25             60             45\n",
       "           12                  80             60             23\n",
       "girl 3     13                  20             90             66\n",
       "           14                  50             50             50\n",
       "           15                  89             67             77"
      ],
      "text/html": "<div>\n<style scoped>\n    .dataframe tbody tr th:only-of-type {\n        vertical-align: middle;\n    }\n\n    .dataframe tbody tr th {\n        vertical-align: top;\n    }\n\n    .dataframe thead th {\n        text-align: right;\n    }\n</style>\n<table border=\"1\" class=\"dataframe\">\n  <thead>\n    <tr style=\"text-align: right;\">\n      <th></th>\n      <th></th>\n      <th></th>\n      <th>math_score</th>\n      <th>english_score</th>\n      <th>chinese_score</th>\n    </tr>\n    <tr>\n      <th>sex</th>\n      <th>class</th>\n      <th>student_id</th>\n      <th></th>\n      <th></th>\n      <th></th>\n    </tr>\n  </thead>\n  <tbody>\n    <tr>\n      <th rowspan=\"4\" valign=\"top\">boy</th>\n      <th>1</th>\n      <th>1</th>\n      <td>50</td>\n      <td>80</td>\n      <td>70</td>\n    </tr>\n    <tr>\n      <th>2</th>\n      <th>2</th>\n      <td>60</td>\n      <td>45</td>\n      <td>50</td>\n    </tr>\n    <tr>\n      <th>1</th>\n      <th>3</th>\n      <td>98</td>\n      <td>43</td>\n      <td>55</td>\n    </tr>\n    <tr>\n      <th>2</th>\n      <th>4</th>\n      <td>70</td>\n      <td>69</td>\n      <td>89</td>\n    </tr>\n    <tr>\n      <th rowspan=\"6\" valign=\"top\">girl</th>\n      <th>1</th>\n      <th>5</th>\n      <td>56</td>\n      <td>79</td>\n      <td>60</td>\n    </tr>\n    <tr>\n      <th>2</th>\n      <th>6</th>\n      <td>60</td>\n      <td>68</td>\n      <td>55</td>\n    </tr>\n    <tr>\n      <th>1</th>\n      <th>7</th>\n      <td>45</td>\n      <td>70</td>\n      <td>77</td>\n    </tr>\n    <tr>\n      <th>2</th>\n      <th>8</th>\n      <td>55</td>\n      <td>77</td>\n      <td>76</td>\n    </tr>\n    <tr>\n      <th>1</th>\n      <th>9</th>\n      <td>25</td>\n      <td>57</td>\n      <td>60</td>\n    </tr>\n    <tr>\n      <th>3</th>\n      <th>10</th>\n      <td>88</td>\n      <td>40</td>\n      <td>43</td>\n    </tr>\n    <tr>\n      <th rowspan=\"2\" valign=\"top\">boy</th>\n      <th rowspan=\"2\" valign=\"top\">3</th>\n      <th>11</th>\n      <td>25</td>\n      <td>60</td>\n      <td>45</td>\n    </tr>\n    <tr>\n      <th>12</th>\n      <td>80</td>\n      <td>60</td>\n      <td>23</td>\n    </tr>\n    <tr>\n      <th rowspan=\"3\" valign=\"top\">girl</th>\n      <th rowspan=\"3\" valign=\"top\">3</th>\n      <th>13</th>\n      <td>20</td>\n      <td>90</td>\n      <td>66</td>\n    </tr>\n    <tr>\n      <th>14</th>\n      <td>50</td>\n      <td>50</td>\n      <td>50</td>\n    </tr>\n    <tr>\n      <th>15</th>\n      <td>89</td>\n      <td>67</td>\n      <td>77</td>\n    </tr>\n  </tbody>\n</table>\n</div>"
     },
     "metadata": {},
     "execution_count": 17
    }
   ],
   "source": [
    "score_df"
   ]
  },
  {
   "cell_type": "code",
   "execution_count": 20,
   "metadata": {},
   "outputs": [
    {
     "output_type": "execute_result",
     "data": {
      "text/plain": [
       "     sex  class  student_id  math_score  english_score  chinese_score\n",
       "0    boy      1           1          50             80             70\n",
       "1    boy      2           2          60             45             50\n",
       "2    boy      1           3          98             43             55\n",
       "3    boy      2           4          70             69             89\n",
       "4   girl      1           5          56             79             60\n",
       "5   girl      2           6          60             68             55\n",
       "6   girl      1           7          45             70             77\n",
       "7   girl      2           8          55             77             76\n",
       "8   girl      1           9          25             57             60\n",
       "9   girl      3          10          88             40             43\n",
       "10   boy      3          11          25             60             45\n",
       "11   boy      3          12          80             60             23\n",
       "12  girl      3          13          20             90             66\n",
       "13  girl      3          14          50             50             50\n",
       "14  girl      3          15          89             67             77"
      ],
      "text/html": "<div>\n<style scoped>\n    .dataframe tbody tr th:only-of-type {\n        vertical-align: middle;\n    }\n\n    .dataframe tbody tr th {\n        vertical-align: top;\n    }\n\n    .dataframe thead th {\n        text-align: right;\n    }\n</style>\n<table border=\"1\" class=\"dataframe\">\n  <thead>\n    <tr style=\"text-align: right;\">\n      <th></th>\n      <th>sex</th>\n      <th>class</th>\n      <th>student_id</th>\n      <th>math_score</th>\n      <th>english_score</th>\n      <th>chinese_score</th>\n    </tr>\n  </thead>\n  <tbody>\n    <tr>\n      <th>0</th>\n      <td>boy</td>\n      <td>1</td>\n      <td>1</td>\n      <td>50</td>\n      <td>80</td>\n      <td>70</td>\n    </tr>\n    <tr>\n      <th>1</th>\n      <td>boy</td>\n      <td>2</td>\n      <td>2</td>\n      <td>60</td>\n      <td>45</td>\n      <td>50</td>\n    </tr>\n    <tr>\n      <th>2</th>\n      <td>boy</td>\n      <td>1</td>\n      <td>3</td>\n      <td>98</td>\n      <td>43</td>\n      <td>55</td>\n    </tr>\n    <tr>\n      <th>3</th>\n      <td>boy</td>\n      <td>2</td>\n      <td>4</td>\n      <td>70</td>\n      <td>69</td>\n      <td>89</td>\n    </tr>\n    <tr>\n      <th>4</th>\n      <td>girl</td>\n      <td>1</td>\n      <td>5</td>\n      <td>56</td>\n      <td>79</td>\n      <td>60</td>\n    </tr>\n    <tr>\n      <th>5</th>\n      <td>girl</td>\n      <td>2</td>\n      <td>6</td>\n      <td>60</td>\n      <td>68</td>\n      <td>55</td>\n    </tr>\n    <tr>\n      <th>6</th>\n      <td>girl</td>\n      <td>1</td>\n      <td>7</td>\n      <td>45</td>\n      <td>70</td>\n      <td>77</td>\n    </tr>\n    <tr>\n      <th>7</th>\n      <td>girl</td>\n      <td>2</td>\n      <td>8</td>\n      <td>55</td>\n      <td>77</td>\n      <td>76</td>\n    </tr>\n    <tr>\n      <th>8</th>\n      <td>girl</td>\n      <td>1</td>\n      <td>9</td>\n      <td>25</td>\n      <td>57</td>\n      <td>60</td>\n    </tr>\n    <tr>\n      <th>9</th>\n      <td>girl</td>\n      <td>3</td>\n      <td>10</td>\n      <td>88</td>\n      <td>40</td>\n      <td>43</td>\n    </tr>\n    <tr>\n      <th>10</th>\n      <td>boy</td>\n      <td>3</td>\n      <td>11</td>\n      <td>25</td>\n      <td>60</td>\n      <td>45</td>\n    </tr>\n    <tr>\n      <th>11</th>\n      <td>boy</td>\n      <td>3</td>\n      <td>12</td>\n      <td>80</td>\n      <td>60</td>\n      <td>23</td>\n    </tr>\n    <tr>\n      <th>12</th>\n      <td>girl</td>\n      <td>3</td>\n      <td>13</td>\n      <td>20</td>\n      <td>90</td>\n      <td>66</td>\n    </tr>\n    <tr>\n      <th>13</th>\n      <td>girl</td>\n      <td>3</td>\n      <td>14</td>\n      <td>50</td>\n      <td>50</td>\n      <td>50</td>\n    </tr>\n    <tr>\n      <th>14</th>\n      <td>girl</td>\n      <td>3</td>\n      <td>15</td>\n      <td>89</td>\n      <td>67</td>\n      <td>77</td>\n    </tr>\n  </tbody>\n</table>\n</div>"
     },
     "metadata": {},
     "execution_count": 20
    }
   ],
   "source": [
    "score_df.reset_index(inplace=True)\n",
    "score_df"
   ]
  },
  {
   "cell_type": "code",
   "execution_count": 21,
   "metadata": {},
   "outputs": [],
   "source": [
    "##將索引(index)依序改為sex、class、student_id，欄位依序改成chinese_score、english_score、math_score\n",
    "score_df.set_index([\"chinese_score\",\"english_score\",\"math_score\"] , inplace=True)"
   ]
  },
  {
   "cell_type": "code",
   "execution_count": 22,
   "metadata": {},
   "outputs": [
    {
     "output_type": "execute_result",
     "data": {
      "text/plain": [
       "                                         sex  class  student_id\n",
       "chinese_score english_score math_score                         \n",
       "70            80            50           boy      1           1\n",
       "50            45            60           boy      2           2\n",
       "55            43            98           boy      1           3\n",
       "89            69            70           boy      2           4\n",
       "60            79            56          girl      1           5\n",
       "55            68            60          girl      2           6\n",
       "77            70            45          girl      1           7\n",
       "76            77            55          girl      2           8\n",
       "60            57            25          girl      1           9\n",
       "43            40            88          girl      3          10\n",
       "45            60            25           boy      3          11\n",
       "23            60            80           boy      3          12\n",
       "66            90            20          girl      3          13\n",
       "50            50            50          girl      3          14\n",
       "77            67            89          girl      3          15"
      ],
      "text/html": "<div>\n<style scoped>\n    .dataframe tbody tr th:only-of-type {\n        vertical-align: middle;\n    }\n\n    .dataframe tbody tr th {\n        vertical-align: top;\n    }\n\n    .dataframe thead th {\n        text-align: right;\n    }\n</style>\n<table border=\"1\" class=\"dataframe\">\n  <thead>\n    <tr style=\"text-align: right;\">\n      <th></th>\n      <th></th>\n      <th></th>\n      <th>sex</th>\n      <th>class</th>\n      <th>student_id</th>\n    </tr>\n    <tr>\n      <th>chinese_score</th>\n      <th>english_score</th>\n      <th>math_score</th>\n      <th></th>\n      <th></th>\n      <th></th>\n    </tr>\n  </thead>\n  <tbody>\n    <tr>\n      <th>70</th>\n      <th>80</th>\n      <th>50</th>\n      <td>boy</td>\n      <td>1</td>\n      <td>1</td>\n    </tr>\n    <tr>\n      <th>50</th>\n      <th>45</th>\n      <th>60</th>\n      <td>boy</td>\n      <td>2</td>\n      <td>2</td>\n    </tr>\n    <tr>\n      <th>55</th>\n      <th>43</th>\n      <th>98</th>\n      <td>boy</td>\n      <td>1</td>\n      <td>3</td>\n    </tr>\n    <tr>\n      <th>89</th>\n      <th>69</th>\n      <th>70</th>\n      <td>boy</td>\n      <td>2</td>\n      <td>4</td>\n    </tr>\n    <tr>\n      <th>60</th>\n      <th>79</th>\n      <th>56</th>\n      <td>girl</td>\n      <td>1</td>\n      <td>5</td>\n    </tr>\n    <tr>\n      <th>55</th>\n      <th>68</th>\n      <th>60</th>\n      <td>girl</td>\n      <td>2</td>\n      <td>6</td>\n    </tr>\n    <tr>\n      <th>77</th>\n      <th>70</th>\n      <th>45</th>\n      <td>girl</td>\n      <td>1</td>\n      <td>7</td>\n    </tr>\n    <tr>\n      <th>76</th>\n      <th>77</th>\n      <th>55</th>\n      <td>girl</td>\n      <td>2</td>\n      <td>8</td>\n    </tr>\n    <tr>\n      <th>60</th>\n      <th>57</th>\n      <th>25</th>\n      <td>girl</td>\n      <td>1</td>\n      <td>9</td>\n    </tr>\n    <tr>\n      <th>43</th>\n      <th>40</th>\n      <th>88</th>\n      <td>girl</td>\n      <td>3</td>\n      <td>10</td>\n    </tr>\n    <tr>\n      <th>45</th>\n      <th>60</th>\n      <th>25</th>\n      <td>boy</td>\n      <td>3</td>\n      <td>11</td>\n    </tr>\n    <tr>\n      <th>23</th>\n      <th>60</th>\n      <th>80</th>\n      <td>boy</td>\n      <td>3</td>\n      <td>12</td>\n    </tr>\n    <tr>\n      <th>66</th>\n      <th>90</th>\n      <th>20</th>\n      <td>girl</td>\n      <td>3</td>\n      <td>13</td>\n    </tr>\n    <tr>\n      <th>50</th>\n      <th>50</th>\n      <th>50</th>\n      <td>girl</td>\n      <td>3</td>\n      <td>14</td>\n    </tr>\n    <tr>\n      <th>77</th>\n      <th>67</th>\n      <th>89</th>\n      <td>girl</td>\n      <td>3</td>\n      <td>15</td>\n    </tr>\n  </tbody>\n</table>\n</div>"
     },
     "metadata": {},
     "execution_count": 22
    }
   ],
   "source": [
    "score_df"
   ]
  },
  {
   "cell_type": "code",
   "execution_count": null,
   "metadata": {},
   "outputs": [],
   "source": []
  }
 ]
}
{
 "metadata": {
  "language_info": {
   "codemirror_mode": {
    "name": "ipython",
    "version": 3
   },
   "file_extension": ".py",
   "mimetype": "text/x-python",
   "name": "python",
   "nbconvert_exporter": "python",
   "pygments_lexer": "ipython3",
   "version": "3.8.3-final"
  },
  "orig_nbformat": 2,
  "kernelspec": {
   "name": "python3",
   "display_name": "Python 3",
   "language": "python"
  }
 },
 "nbformat": 4,
 "nbformat_minor": 2,
 "cells": [
  {
   "cell_type": "code",
   "execution_count": 13,
   "metadata": {},
   "outputs": [
    {
     "output_type": "stream",
     "name": "stdout",
     "text": [
      "英文:最大值:89,最小值:48,平均值:67,標準差:13\n數學:最大值:85,最小值:60,平均值:66,標準差:9\n國文:最大值:90,最小值:65,平均值:75,標準差:8\n"
     ]
    }
   ],
   "source": [
    "import numpy as np\n",
    "english_score = np.array([55,89,76,65,48,70])\n",
    "math_score = np.array([60,85,60,68,np.nan,60])\n",
    "chinese_score = np.array([65,90,82,72,66,77])\n",
    "\n",
    "english_max=np.nanmax(english_score)\n",
    "english_min=np.nanmin(english_score)\n",
    "english_mean=np.nanmean(english_score)\n",
    "english_std=np.nanstd(english_score)\n",
    "\n",
    "print(\"英文:最大值:%d,最小值:%d,平均值:%d,標準差:%d\" % (english_max , english_min , english_mean , english_std))\n",
    "\n",
    "math_max=np.nanmax(math_score)\n",
    "math_min=np.nanmin(math_score)\n",
    "math_mean=np.nanmean(math_score)\n",
    "math_std=np.nanstd(math_score)\n",
    "\n",
    "print(\"數學:最大值:%d,最小值:%d,平均值:%d,標準差:%d\"%(math_max,math_min,math_mean,math_std))\n",
    "\n",
    "chinese_max=np.nanmax(chinese_score)\n",
    "chinese_min=np.nanmin(chinese_score)\n",
    "chinese_mean=np.nanmean(chinese_score)\n",
    "chinese_std=np.nanstd(chinese_score)\n",
    "\n",
    "print(\"國文:最大值:%d,最小值:%d,平均值:%d,標準差:%d\"%(chinese_max,chinese_min,chinese_mean,chinese_std))\n",
    "\n"
   ]
  },
  {
   "cell_type": "code",
   "execution_count": 14,
   "metadata": {},
   "outputs": [
    {
     "output_type": "stream",
     "name": "stdout",
     "text": [
      "英文:最大值:89,最小值:48,平均值:67,標準差:13\n數學:最大值:85,最小值:55,平均值:64,標準差:9\n國文:最大值:90,最小值:65,平均值:75,標準差:8\n"
     ]
    }
   ],
   "source": [
    "#第五位同學補考數學後成績為55，請計算補考後數學成績平均、最大值、最小值、標準差?\n",
    "math_score = np.array([60,85,60,68,55,60])\n",
    "math_max=np.nanmax(math_score)\n",
    "math_min=np.nanmin(math_score)\n",
    "math_mean=np.nanmean(math_score)\n",
    "math_std=np.nanstd(math_score)\n",
    "\n",
    "print(\"英文:最大值:%d,最小值:%d,平均值:%d,標準差:%d\" % (english_max , english_min , english_mean , english_std))\n",
    "print(\"數學:最大值:%d,最小值:%d,平均值:%d,標準差:%d\"%(math_max,math_min,math_mean,math_std))\n",
    "print(\"國文:最大值:%d,最小值:%d,平均值:%d,標準差:%d\"%(chinese_max,chinese_min,chinese_mean,chinese_std))"
   ]
  },
  {
   "cell_type": "code",
   "execution_count": 19,
   "metadata": {},
   "outputs": [
    {
     "output_type": "stream",
     "name": "stdout",
     "text": [
      "[[1.         0.74056803]\n [0.74056803 1.        ]] \n [[1.        0.7855563]\n [0.7855563 1.       ]] \n [[1.         0.97792828]\n [0.97792828 1.        ]]\n"
     ]
    }
   ],
   "source": [
    "#用補考後資料找出與國文成績相關係數最高的學科?\n",
    "\n",
    "c1=np.corrcoef(math_score,chinese_score)\n",
    "c2=np.corrcoef(math_score ,english_score)\n",
    "c3=np.corrcoef(chinese_score,english_score)\n",
    "\n",
    "print (c1,c2,c3)\n",
    "# 國文與英文相關性最高"
   ]
  },
  {
   "cell_type": "code",
   "execution_count": null,
   "metadata": {},
   "outputs": [],
   "source": []
  }
 ]
}
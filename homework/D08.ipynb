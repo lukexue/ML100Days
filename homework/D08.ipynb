{
 "metadata": {
  "language_info": {
   "codemirror_mode": {
    "name": "ipython",
    "version": 3
   },
   "file_extension": ".py",
   "mimetype": "text/x-python",
   "name": "python",
   "nbconvert_exporter": "python",
   "pygments_lexer": "ipython3",
   "version": "3.8.5-final"
  },
  "orig_nbformat": 2,
  "kernelspec": {
   "name": "python3",
   "display_name": "Python 3",
   "language": "python"
  }
 },
 "nbformat": 4,
 "nbformat_minor": 2,
 "cells": [
  {
   "cell_type": "code",
   "execution_count": 15,
   "metadata": {},
   "outputs": [
    {
     "output_type": "execute_result",
     "data": {
      "text/plain": [
       "array([('小明', 'boy', 67.5, 8,  True), ('小華', 'boy', 75.3, 1,  True),\n",
       "       ('小菁', 'girl', 50.1, 5, False), ('小美', 'girl', 45.5, 4, False),\n",
       "       ('小張', 'boy', 80.8, 7,  True), ('John', 'boy', 90.4, 6,  True),\n",
       "       ('Mark', 'boy', 78.4, 2, False), ('Tom', 'boy', 70.7, 3, False)],\n",
       "      dtype=[('name', '<U10'), ('sex', '<U10'), ('weight', '<f4'), ('rank', '<i8'), ('myopia', '?')])"
      ]
     },
     "metadata": {},
     "execution_count": 15
    }
   ],
   "source": [
    "import numpy as np\n",
    "\n",
    "\n",
    "name_list = ['小明','小華','小菁','小美','小張','John','Mark','Tom']\n",
    "sex_list = ['boy','boy','girl','girl','boy','boy','boy','boy']\n",
    "weight_list = [67.5,75.3,50.1,45.5,80.8,90.4,78.4,70.7]\n",
    "rank_list = [8,1,5,4,7,6,2,3]\n",
    "myopia_list = [True,True,False,False,True,True,False,False]\n",
    "\n",
    "#1. 將上列list依照['name', 'sex', 'weight', 'rank', 'myopia']順序擺入array，並且資料型態順序擺入[Unicode,Unicode,float,int,boolean]\n",
    "\n",
    "dt = np.dtype({'names':('name', 'sex', 'weight', 'rank', 'myopia'), 'formats':('U10' ,'U10','f', np.int_, bool)})\n",
    "\n",
    "c = np.zeros(8, dtype=dt)\n",
    "c['name']=name_list\n",
    "c['sex']=sex_list\n",
    "c['weight']=weight_list\n",
    "c['rank']= rank_list\n",
    "c['myopia']=myopia_list\n",
    "\n",
    "c\n"
   ]
  },
  {
   "cell_type": "code",
   "execution_count": 16,
   "metadata": {},
   "outputs": [
    {
     "output_type": "execute_result",
     "data": {
      "text/plain": [
       "69.8375"
      ]
     },
     "metadata": {},
     "execution_count": 16
    }
   ],
   "source": [
    "#2. 呈上題，將array中體重(weight)數據集取出算出全部平均體重\n",
    "np.mean(c['weight'])\n"
   ]
  },
  {
   "cell_type": "code",
   "execution_count": 20,
   "metadata": {},
   "outputs": [
    {
     "output_type": "execute_result",
     "data": {
      "text/plain": [
       "77.18333"
      ]
     },
     "metadata": {},
     "execution_count": 20
    }
   ],
   "source": [
    "#3. 呈上題，進一步算出男生(sex欄位是boy)平均體重\n",
    "\n",
    "np.mean(c[c['sex']=='boy']['weight'])"
   ]
  },
  {
   "cell_type": "code",
   "execution_count": 21,
   "metadata": {},
   "outputs": [
    {
     "output_type": "execute_result",
     "data": {
      "text/plain": [
       "47.8"
      ]
     },
     "metadata": {},
     "execution_count": 21
    }
   ],
   "source": [
    "#3. 呈上題，進一步算出女生(sex欄位是girl)平均體重\n",
    "np.mean(c[c['sex']=='girl']['weight'])"
   ]
  },
  {
   "cell_type": "code",
   "execution_count": null,
   "metadata": {},
   "outputs": [],
   "source": []
  }
 ]
}